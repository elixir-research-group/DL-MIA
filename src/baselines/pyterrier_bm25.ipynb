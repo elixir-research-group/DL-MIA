{
 "cells": [
  {
   "cell_type": "code",
   "execution_count": 1,
   "metadata": {},
   "outputs": [
    {
     "name": "stderr",
     "output_type": "stream",
     "text": [
      "PyTerrier 0.10.0 has loaded Terrier 5.9 (built by craigm on 2024-05-02 17:40) and terrier-helper 0.0.8\n",
      "\n",
      "No etc/terrier.properties, using terrier.default.properties for bootstrap configuration.\n"
     ]
    }
   ],
   "source": [
    "import pyterrier as pt\n",
    "from pyterrier.measures import AP, nDCG, P, RR\n",
    "import pandas as pd\n",
    "\n",
    "if not pt.started():\n",
    "    pt.init(tqdm=\"notebook\")"
   ]
  },
  {
   "cell_type": "code",
   "execution_count": 2,
   "metadata": {},
   "outputs": [
    {
     "name": "stdout",
     "output_type": "stream",
     "text": [
      "12:10:10.537 [main] WARN org.terrier.structures.BaseCompressingMetaIndex - Structure meta reading lookup file directly from disk (SLOW) - try index.meta.index-source=fileinmem in the index properties file. 1 GiB of memory would be required.\n",
      "12:10:10.543 [main] WARN org.terrier.structures.BaseCompressingMetaIndex - Structure meta reading data file directly from disk (SLOW) - try index.meta.data-source=fileinmem in the index properties file. 8,6 GiB of memory would be required.\n"
     ]
    }
   ],
   "source": [
    "bm25_pl = (\n",
    "    pt.rewrite.tokenise()\n",
    "    >> pt.BatchRetrieve.from_dataset(\n",
    "        \"msmarcov2_passage\", \"terrier_stemmed\", wmodel=\"BM25\"\n",
    "    )\n",
    "    % 1000\n",
    ")"
   ]
  },
  {
   "cell_type": "code",
   "execution_count": 3,
   "metadata": {},
   "outputs": [
    {
     "name": "stderr",
     "output_type": "stream",
     "text": [
      "/var/folders/yj/48233x_x22z9qclg68tnd_3r0000gn/T/ipykernel_54023/1118679602.py:8: FutureWarning: The 'delim_whitespace' keyword in pd.read_csv is deprecated and will be removed in a future version. Use ``sep='\\s+'`` instead\n",
      "  qid_intent_mapping = pd.read_csv(\n"
     ]
    }
   ],
   "source": [
    "intents = pd.read_csv(\n",
    "    \"../../data/intent.tsv\",\n",
    "    delimiter=\"\\t\",\n",
    "    header=None,\n",
    "    names=(\"iid\", \"intent\"),\n",
    "    dtype=str,\n",
    ")\n",
    "qid_intent_mapping = pd.read_csv(\n",
    "    \"../../data/qid_iid_qrel.txt\",\n",
    "    delim_whitespace=True,\n",
    "    header=None,\n",
    "    names=[\"qid\", \"iid\", \"psg\", \"label\"],\n",
    "    dtype=str,\n",
    ")\n",
    "queries = pd.read_csv(\n",
    "    \"../../data/query.tsv\",\n",
    "    delimiter=\"\\t\",\n",
    "    names=(\"qid\", \"query\"),\n",
    "    header=None,\n",
    "    dtype=str,\n",
    ")"
   ]
  },
  {
   "cell_type": "code",
   "execution_count": 4,
   "metadata": {},
   "outputs": [],
   "source": [
    "METRICS = [AP @ 100, nDCG @ 10, P @ 10, RR]"
   ]
  },
  {
   "cell_type": "markdown",
   "metadata": {},
   "source": [
    "**Experiment 1**: BM25 using intents as queries and evaluating with intent QRels\n"
   ]
  },
  {
   "cell_type": "code",
   "execution_count": 5,
   "metadata": {},
   "outputs": [
    {
     "data": {
      "text/html": [
       "<div>\n",
       "<style scoped>\n",
       "    .dataframe tbody tr th:only-of-type {\n",
       "        vertical-align: middle;\n",
       "    }\n",
       "\n",
       "    .dataframe tbody tr th {\n",
       "        vertical-align: top;\n",
       "    }\n",
       "\n",
       "    .dataframe thead th {\n",
       "        text-align: right;\n",
       "    }\n",
       "</style>\n",
       "<table border=\"1\" class=\"dataframe\">\n",
       "  <thead>\n",
       "    <tr style=\"text-align: right;\">\n",
       "      <th></th>\n",
       "      <th>name</th>\n",
       "      <th>AP@100</th>\n",
       "      <th>nDCG@10</th>\n",
       "      <th>P@10</th>\n",
       "      <th>RR</th>\n",
       "    </tr>\n",
       "  </thead>\n",
       "  <tbody>\n",
       "    <tr>\n",
       "      <th>0</th>\n",
       "      <td>BM25 (intents as queries)</td>\n",
       "      <td>0.057782</td>\n",
       "      <td>0.116401</td>\n",
       "      <td>0.110145</td>\n",
       "      <td>0.262117</td>\n",
       "    </tr>\n",
       "  </tbody>\n",
       "</table>\n",
       "</div>"
      ],
      "text/plain": [
       "                        name    AP@100   nDCG@10      P@10        RR\n",
       "0  BM25 (intents as queries)  0.057782  0.116401  0.110145  0.262117"
      ]
     },
     "execution_count": 5,
     "metadata": {},
     "output_type": "execute_result"
    }
   ],
   "source": [
    "pt.Experiment(\n",
    "    [bm25_pl],\n",
    "    intents.rename(columns={\"iid\": \"qid\", \"intent\": \"query\"}),\n",
    "    pt.io.read_qrels(\"../../data/qrels.txt\"),\n",
    "    METRICS,\n",
    "    names=[\"BM25 (intents as queries)\"],\n",
    "    save_dir=\"runs\",\n",
    ")"
   ]
  },
  {
   "cell_type": "markdown",
   "metadata": {},
   "source": [
    "Same experiment here, but reporting results per intent:\n"
   ]
  },
  {
   "cell_type": "code",
   "execution_count": 6,
   "metadata": {},
   "outputs": [
    {
     "data": {
      "text/html": [
       "<div>\n",
       "<style scoped>\n",
       "    .dataframe tbody tr th:only-of-type {\n",
       "        vertical-align: middle;\n",
       "    }\n",
       "\n",
       "    .dataframe tbody tr th {\n",
       "        vertical-align: top;\n",
       "    }\n",
       "\n",
       "    .dataframe thead th {\n",
       "        text-align: right;\n",
       "    }\n",
       "</style>\n",
       "<table border=\"1\" class=\"dataframe\">\n",
       "  <thead>\n",
       "    <tr style=\"text-align: right;\">\n",
       "      <th></th>\n",
       "      <th>name</th>\n",
       "      <th>qid</th>\n",
       "      <th>measure</th>\n",
       "      <th>value</th>\n",
       "    </tr>\n",
       "  </thead>\n",
       "  <tbody>\n",
       "    <tr>\n",
       "      <th>0</th>\n",
       "      <td>BM25 (intents as queries)</td>\n",
       "      <td>1</td>\n",
       "      <td>RR</td>\n",
       "      <td>1.000000</td>\n",
       "    </tr>\n",
       "    <tr>\n",
       "      <th>1</th>\n",
       "      <td>BM25 (intents as queries)</td>\n",
       "      <td>1</td>\n",
       "      <td>P@10</td>\n",
       "      <td>0.200000</td>\n",
       "    </tr>\n",
       "    <tr>\n",
       "      <th>2</th>\n",
       "      <td>BM25 (intents as queries)</td>\n",
       "      <td>1</td>\n",
       "      <td>nDCG@10</td>\n",
       "      <td>0.275553</td>\n",
       "    </tr>\n",
       "    <tr>\n",
       "      <th>3</th>\n",
       "      <td>BM25 (intents as queries)</td>\n",
       "      <td>1</td>\n",
       "      <td>AP@100</td>\n",
       "      <td>0.208333</td>\n",
       "    </tr>\n",
       "    <tr>\n",
       "      <th>36</th>\n",
       "      <td>BM25 (intents as queries)</td>\n",
       "      <td>10</td>\n",
       "      <td>RR</td>\n",
       "      <td>0.058824</td>\n",
       "    </tr>\n",
       "    <tr>\n",
       "      <th>...</th>\n",
       "      <td>...</td>\n",
       "      <td>...</td>\n",
       "      <td>...</td>\n",
       "      <td>...</td>\n",
       "    </tr>\n",
       "    <tr>\n",
       "      <th>31</th>\n",
       "      <td>BM25 (intents as queries)</td>\n",
       "      <td>8</td>\n",
       "      <td>AP@100</td>\n",
       "      <td>0.000000</td>\n",
       "    </tr>\n",
       "    <tr>\n",
       "      <th>32</th>\n",
       "      <td>BM25 (intents as queries)</td>\n",
       "      <td>9</td>\n",
       "      <td>RR</td>\n",
       "      <td>0.500000</td>\n",
       "    </tr>\n",
       "    <tr>\n",
       "      <th>33</th>\n",
       "      <td>BM25 (intents as queries)</td>\n",
       "      <td>9</td>\n",
       "      <td>P@10</td>\n",
       "      <td>0.600000</td>\n",
       "    </tr>\n",
       "    <tr>\n",
       "      <th>34</th>\n",
       "      <td>BM25 (intents as queries)</td>\n",
       "      <td>9</td>\n",
       "      <td>nDCG@10</td>\n",
       "      <td>0.576669</td>\n",
       "    </tr>\n",
       "    <tr>\n",
       "      <th>35</th>\n",
       "      <td>BM25 (intents as queries)</td>\n",
       "      <td>9</td>\n",
       "      <td>AP@100</td>\n",
       "      <td>0.341124</td>\n",
       "    </tr>\n",
       "  </tbody>\n",
       "</table>\n",
       "<p>276 rows × 4 columns</p>\n",
       "</div>"
      ],
      "text/plain": [
       "                         name qid  measure     value\n",
       "0   BM25 (intents as queries)   1       RR  1.000000\n",
       "1   BM25 (intents as queries)   1     P@10  0.200000\n",
       "2   BM25 (intents as queries)   1  nDCG@10  0.275553\n",
       "3   BM25 (intents as queries)   1   AP@100  0.208333\n",
       "36  BM25 (intents as queries)  10       RR  0.058824\n",
       "..                        ...  ..      ...       ...\n",
       "31  BM25 (intents as queries)   8   AP@100  0.000000\n",
       "32  BM25 (intents as queries)   9       RR  0.500000\n",
       "33  BM25 (intents as queries)   9     P@10  0.600000\n",
       "34  BM25 (intents as queries)   9  nDCG@10  0.576669\n",
       "35  BM25 (intents as queries)   9   AP@100  0.341124\n",
       "\n",
       "[276 rows x 4 columns]"
      ]
     },
     "execution_count": 6,
     "metadata": {},
     "output_type": "execute_result"
    }
   ],
   "source": [
    "pt.Experiment(\n",
    "    [bm25_pl],\n",
    "    intents.rename(columns={\"iid\": \"qid\", \"intent\": \"query\"}),\n",
    "    pt.io.read_qrels(\"../../data/qrels.txt\"),\n",
    "    METRICS,\n",
    "    names=[\"BM25 (intents as queries)\"],\n",
    "    save_dir=\"runs\",\n",
    "    perquery=True,\n",
    ")"
   ]
  },
  {
   "cell_type": "markdown",
   "metadata": {},
   "source": [
    "**Experiment 2**: BM25 using original queries and evaluating with intent QRels\n"
   ]
  },
  {
   "cell_type": "code",
   "execution_count": 7,
   "metadata": {},
   "outputs": [],
   "source": [
    "# here: \"qid\" column holds intent IDs, \"query\" column holds corresponding original queries\n",
    "intents_with_orig_queries = (\n",
    "    intents.merge(qid_intent_mapping, on=\"iid\")\n",
    "    .merge(queries, on=\"qid\")[[\"iid\", \"query\"]]\n",
    "    .rename(columns={\"iid\": \"qid\"})\n",
    ").drop_duplicates()"
   ]
  },
  {
   "cell_type": "code",
   "execution_count": 8,
   "metadata": {},
   "outputs": [
    {
     "data": {
      "text/html": [
       "<div>\n",
       "<style scoped>\n",
       "    .dataframe tbody tr th:only-of-type {\n",
       "        vertical-align: middle;\n",
       "    }\n",
       "\n",
       "    .dataframe tbody tr th {\n",
       "        vertical-align: top;\n",
       "    }\n",
       "\n",
       "    .dataframe thead th {\n",
       "        text-align: right;\n",
       "    }\n",
       "</style>\n",
       "<table border=\"1\" class=\"dataframe\">\n",
       "  <thead>\n",
       "    <tr style=\"text-align: right;\">\n",
       "      <th></th>\n",
       "      <th>name</th>\n",
       "      <th>AP@100</th>\n",
       "      <th>nDCG@10</th>\n",
       "      <th>P@10</th>\n",
       "      <th>RR</th>\n",
       "    </tr>\n",
       "  </thead>\n",
       "  <tbody>\n",
       "    <tr>\n",
       "      <th>0</th>\n",
       "      <td>BM25 (intents with original queries)</td>\n",
       "      <td>0.048964</td>\n",
       "      <td>0.07325</td>\n",
       "      <td>0.081159</td>\n",
       "      <td>0.203476</td>\n",
       "    </tr>\n",
       "  </tbody>\n",
       "</table>\n",
       "</div>"
      ],
      "text/plain": [
       "                                   name    AP@100  nDCG@10      P@10        RR\n",
       "0  BM25 (intents with original queries)  0.048964  0.07325  0.081159  0.203476"
      ]
     },
     "execution_count": 8,
     "metadata": {},
     "output_type": "execute_result"
    }
   ],
   "source": [
    "pt.Experiment(\n",
    "    [bm25_pl],\n",
    "    intents_with_orig_queries,\n",
    "    pt.io.read_qrels(\"../../data/qrels.txt\"),\n",
    "    METRICS,\n",
    "    names=[\"BM25 (intents with original queries)\"],\n",
    "    save_dir=\"runs\",\n",
    ")"
   ]
  },
  {
   "cell_type": "markdown",
   "metadata": {},
   "source": [
    "Same experiment here, but reporting results per intent (original query):\n"
   ]
  },
  {
   "cell_type": "code",
   "execution_count": 9,
   "metadata": {},
   "outputs": [
    {
     "data": {
      "text/html": [
       "<div>\n",
       "<style scoped>\n",
       "    .dataframe tbody tr th:only-of-type {\n",
       "        vertical-align: middle;\n",
       "    }\n",
       "\n",
       "    .dataframe tbody tr th {\n",
       "        vertical-align: top;\n",
       "    }\n",
       "\n",
       "    .dataframe thead th {\n",
       "        text-align: right;\n",
       "    }\n",
       "</style>\n",
       "<table border=\"1\" class=\"dataframe\">\n",
       "  <thead>\n",
       "    <tr style=\"text-align: right;\">\n",
       "      <th></th>\n",
       "      <th>name</th>\n",
       "      <th>qid</th>\n",
       "      <th>measure</th>\n",
       "      <th>value</th>\n",
       "    </tr>\n",
       "  </thead>\n",
       "  <tbody>\n",
       "    <tr>\n",
       "      <th>0</th>\n",
       "      <td>BM25 (intents with original queries)</td>\n",
       "      <td>1</td>\n",
       "      <td>RR</td>\n",
       "      <td>1.000000</td>\n",
       "    </tr>\n",
       "    <tr>\n",
       "      <th>1</th>\n",
       "      <td>BM25 (intents with original queries)</td>\n",
       "      <td>1</td>\n",
       "      <td>P@10</td>\n",
       "      <td>0.200000</td>\n",
       "    </tr>\n",
       "    <tr>\n",
       "      <th>2</th>\n",
       "      <td>BM25 (intents with original queries)</td>\n",
       "      <td>1</td>\n",
       "      <td>nDCG@10</td>\n",
       "      <td>0.220726</td>\n",
       "    </tr>\n",
       "    <tr>\n",
       "      <th>3</th>\n",
       "      <td>BM25 (intents with original queries)</td>\n",
       "      <td>1</td>\n",
       "      <td>AP@100</td>\n",
       "      <td>0.152778</td>\n",
       "    </tr>\n",
       "    <tr>\n",
       "      <th>36</th>\n",
       "      <td>BM25 (intents with original queries)</td>\n",
       "      <td>10</td>\n",
       "      <td>RR</td>\n",
       "      <td>0.062500</td>\n",
       "    </tr>\n",
       "    <tr>\n",
       "      <th>...</th>\n",
       "      <td>...</td>\n",
       "      <td>...</td>\n",
       "      <td>...</td>\n",
       "      <td>...</td>\n",
       "    </tr>\n",
       "    <tr>\n",
       "      <th>31</th>\n",
       "      <td>BM25 (intents with original queries)</td>\n",
       "      <td>8</td>\n",
       "      <td>AP@100</td>\n",
       "      <td>0.002233</td>\n",
       "    </tr>\n",
       "    <tr>\n",
       "      <th>32</th>\n",
       "      <td>BM25 (intents with original queries)</td>\n",
       "      <td>9</td>\n",
       "      <td>RR</td>\n",
       "      <td>0.003040</td>\n",
       "    </tr>\n",
       "    <tr>\n",
       "      <th>33</th>\n",
       "      <td>BM25 (intents with original queries)</td>\n",
       "      <td>9</td>\n",
       "      <td>P@10</td>\n",
       "      <td>0.000000</td>\n",
       "    </tr>\n",
       "    <tr>\n",
       "      <th>34</th>\n",
       "      <td>BM25 (intents with original queries)</td>\n",
       "      <td>9</td>\n",
       "      <td>nDCG@10</td>\n",
       "      <td>0.000000</td>\n",
       "    </tr>\n",
       "    <tr>\n",
       "      <th>35</th>\n",
       "      <td>BM25 (intents with original queries)</td>\n",
       "      <td>9</td>\n",
       "      <td>AP@100</td>\n",
       "      <td>0.000000</td>\n",
       "    </tr>\n",
       "  </tbody>\n",
       "</table>\n",
       "<p>276 rows × 4 columns</p>\n",
       "</div>"
      ],
      "text/plain": [
       "                                    name qid  measure     value\n",
       "0   BM25 (intents with original queries)   1       RR  1.000000\n",
       "1   BM25 (intents with original queries)   1     P@10  0.200000\n",
       "2   BM25 (intents with original queries)   1  nDCG@10  0.220726\n",
       "3   BM25 (intents with original queries)   1   AP@100  0.152778\n",
       "36  BM25 (intents with original queries)  10       RR  0.062500\n",
       "..                                   ...  ..      ...       ...\n",
       "31  BM25 (intents with original queries)   8   AP@100  0.002233\n",
       "32  BM25 (intents with original queries)   9       RR  0.003040\n",
       "33  BM25 (intents with original queries)   9     P@10  0.000000\n",
       "34  BM25 (intents with original queries)   9  nDCG@10  0.000000\n",
       "35  BM25 (intents with original queries)   9   AP@100  0.000000\n",
       "\n",
       "[276 rows x 4 columns]"
      ]
     },
     "execution_count": 9,
     "metadata": {},
     "output_type": "execute_result"
    }
   ],
   "source": [
    "pt.Experiment(\n",
    "    [bm25_pl],\n",
    "    intents_with_orig_queries,\n",
    "    pt.io.read_qrels(\"../../data/qrels.txt\"),\n",
    "    METRICS,\n",
    "    names=[\"BM25 (intents with original queries)\"],\n",
    "    save_dir=\"runs\",\n",
    "    perquery=True,\n",
    ")"
   ]
  }
 ],
 "metadata": {
  "kernelspec": {
   "display_name": "pt",
   "language": "python",
   "name": "python3"
  },
  "language_info": {
   "codemirror_mode": {
    "name": "ipython",
    "version": 3
   },
   "file_extension": ".py",
   "mimetype": "text/x-python",
   "name": "python",
   "nbconvert_exporter": "python",
   "pygments_lexer": "ipython3",
   "version": "3.11.7"
  }
 },
 "nbformat": 4,
 "nbformat_minor": 2
}
